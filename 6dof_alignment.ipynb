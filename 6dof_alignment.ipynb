{
  "cells": [
    {
      "cell_type": "markdown",
      "metadata": {
        "id": "X2Fj4S3r0p1A"
      },
      "source": [
        "##### Copyright 2019 Google LLC.\n"
      ]
    },
    {
      "cell_type": "code",
      "execution_count": null,
      "metadata": {
        "id": "Okg-R95R1CaX"
      },
      "outputs": [],
      "source": [
        "#@title Licensed under the Apache License, Version 2.0 (the \"License\");\n",
        "# you may not use this file except in compliance with the License.\n",
        "# You may obtain a copy of the License at\n",
        "#\n",
        "# https://www.apache.org/licenses/LICENSE-2.0\n",
        "#\n",
        "# Unless required by applicable law or agreed to in writing, software\n",
        "# distributed under the License is distributed on an \"AS IS\" BASIS,\n",
        "# WITHOUT WARRANTIES OR CONDITIONS OF ANY KIND, either express or implied.\n",
        "# See the License for the specific language governing permissions and\n",
        "# limitations under the License."
      ]
    },
    {
      "cell_type": "markdown",
      "metadata": {
        "id": "eeObMQsw1R_p"
      },
      "source": [
        "# Object pose alignment\n",
        "\n",
        "<a target=\"_blank\" href=\"https://colab.research.google.com/github/slosh-tracking/pose_optimization_tensorflow/blob/main/6dof_alignment.ipynb\">\n",
        "  <img src=\"https://colab.research.google.com/assets/colab-badge.svg\" alt=\"Open In Colab\"/>\n",
        "</a>"
      ]
    },
    {
      "cell_type": "markdown",
      "metadata": {
        "id": "6S5QwOCcgwGI"
      },
      "source": [
        "Precisely estimating the pose of objects is fundamental to many industries. For instance, in augmented and virtual reality, it allows users to modify the state of some variable by interacting with these objects (e.g. volume controlled by a mug on the user's desk).\n",
        "\n",
        "This notebook illustrates how to use [Tensorflow Graphics](https://github.com/tensorflow/graphics) to estimate the rotation and translation of known 3D objects.\n",
        "![](https://storage.googleapis.com/tensorflow-graphics/notebooks/6dof_pose/task.jpg)\n",
        "\n",
        "\n",
        "\n",
        "This capability is illustrated by two different demos:\n",
        "1. **Machine learning** demo illustrating how to train a simple neural network capable of precisely estimating the rotation and translation of a given object with respect to a reference pose.\n",
        "2. **Mathematical optimization** demo that takes a different approach to the problem; does not use machine learning.\n",
        "\n",
        "**Note**: The easiest way to use this tutorial is as a Colab notebook, which allows you to dive in with no setup."
      ]
    },
    {
      "cell_type": "markdown",
      "metadata": {
        "id": "PNQ29y8Q4_cH"
      },
      "source": [
        "## Setup & Imports\n",
        "If Tensorflow Graphics is not installed on your system, the following cell can install the Tensorflow Graphics package for you."
      ]
    },
    {
      "cell_type": "code",
      "execution_count": null,
      "metadata": {
        "id": "26AvKq8MJRGl"
      },
      "outputs": [],
      "source": [
        "!pip install tensorflow_graphics"
      ]
    },
    {
      "cell_type": "markdown",
      "metadata": {
        "id": "UkPKOuyJKuKM"
      },
      "source": [
        "Now that Tensorflow Graphics is installed, let's import everything needed to run the demos contained in this notebook."
      ]
    },
    {
      "cell_type": "code",
      "execution_count": null,
      "metadata": {
        "id": "KlBviBxue7n0"
      },
      "outputs": [],
      "source": [
        "import time\n",
        "\n",
        "import matplotlib.pyplot as plt\n",
        "import numpy as np\n",
        "import tensorflow as tf\n",
        "from tensorflow import keras\n",
        "from tensorflow.keras import layers\n",
        "\n",
        "from tensorflow_graphics.geometry.transformation import quaternion\n",
        "from tensorflow_graphics.math import vector\n",
        "from tensorflow_graphics.notebooks import threejs_visualization\n",
        "from tensorflow_graphics.notebooks.resources import tfg_simplified_logo, triangulated_stripe\n",
        "\n",
        "tf.compat.v1.enable_v2_behavior()"
      ]
    },
    {
      "cell_type": "code",
      "execution_count": null,
      "metadata": {
        "id": "sugeg_gyPh36"
      },
      "outputs": [],
      "source": [
        "# Define the 8 vertices of a rectangular prism\n",
        "# Let's define a box from (0, 0, 0) to (1, 1, 1)\n",
        "vertices = (\n",
        "    (0, 0, 0),  # 0\n",
        "    (1, 0, 0),  # 1\n",
        "    (1, 1, 0),  # 2\n",
        "    (0, 1, 0),  # 3\n",
        "    (0, 0, 1),  # 4\n",
        "    (1, 0, 1),  # 5\n",
        "    (1, 1, 1),  # 6\n",
        "    (0, 1, 1),  # 7\n",
        ")\n",
        "vertices = np.array(vertices)\n",
        "\n",
        "# Define the 12 triangles (2 per face × 6 faces)\n",
        "faces = (\n",
        "    (0, 1, 2), (0, 2, 3),  # Bottom face\n",
        "    (4, 5, 6), (4, 6, 7),  # Top face\n",
        "    (0, 1, 5), (0, 5, 4),  # Front face\n",
        "    (1, 2, 6), (1, 6, 5),  # Right face\n",
        "    (2, 3, 7), (2, 7, 6),  # Back face\n",
        "    (3, 0, 4), (3, 4, 7),  # Left face\n",
        ")\n",
        "faces = np.array(faces)\n",
        "\n",
        "box_mesh = {'vertices': vertices, 'faces': faces}"
      ]
    },
    {
      "cell_type": "code",
      "execution_count": null,
      "metadata": {
        "id": "cG05Ala3H80-"
      },
      "outputs": [],
      "source": [
        "\"\"\"Mesh of a Truncated Icosahedron (e.g., soccer ball or Buckminsterfullerene).\"\"\"\n",
        "\n",
        "import numpy as np\n",
        "\n",
        "# Golden ratio\n",
        "phi = (1 + np.sqrt(5)) / 2\n",
        "\n",
        "# Unit length truncated icosahedron vertices\n",
        "# 60 vertices of a truncated icosahedron\n",
        "vertices = np.array([\n",
        "    # Taken from standard symmetrical coordinates\n",
        "    # Using integer combinations of (0, ±1, ±3φ), etc.\n",
        "    [0, 1, 3*phi], [0, -1, 3*phi], [0, 1, -3*phi], [0, -1, -3*phi],\n",
        "    [1, 3*phi, 0], [-1, 3*phi, 0], [1, -3*phi, 0], [-1, -3*phi, 0],\n",
        "    [3*phi, 0, 1], [-3*phi, 0, 1], [3*phi, 0, -1], [-3*phi, 0, -1],\n",
        "\n",
        "    [2, 1+2*phi, phi], [-2, 1+2*phi, phi], [2, -(1+2*phi), phi], [-2, -(1+2*phi), phi],\n",
        "    [2, 1+2*phi, -phi], [-2, 1+2*phi, -phi], [2, -(1+2*phi), -phi], [-2, -(1+2*phi), -phi],\n",
        "\n",
        "    [1+2*phi, phi, 2], [-(1+2*phi), phi, 2], [1+2*phi, -phi, 2], [-(1+2*phi), -phi, 2],\n",
        "    [1+2*phi, phi, -2], [-(1+2*phi), phi, -2], [1+2*phi, -phi, -2], [-(1+2*phi), -phi, -2],\n",
        "\n",
        "    [phi, 2, 1+2*phi], [-phi, 2, 1+2*phi], [phi, -2, 1+2*phi], [-phi, -2, 1+2*phi],\n",
        "    [phi, 2, -(1+2*phi)], [-phi, 2, -(1+2*phi)], [phi, -2, -(1+2*phi)], [-phi, -2, -(1+2*phi)],\n",
        "\n",
        "    [3, 1, phi], [-3, 1, phi], [3, -1, phi], [-3, -1, phi],\n",
        "    [3, 1, -phi], [-3, 1, -phi], [3, -1, -phi], [-3, -1, -phi],\n",
        "\n",
        "    [1, phi, 3], [-1, phi, 3], [1, -phi, 3], [-1, -phi, 3],\n",
        "    [1, phi, -3], [-1, phi, -3], [1, -phi, -3], [-1, -phi, -3],\n",
        "\n",
        "    [phi, 3, 1], [-phi, 3, 1], [phi, -3, 1], [-phi, -3, 1],\n",
        "    [phi, 3, -1], [-phi, 3, -1], [phi, -3, -1], [-phi, -3, -1]\n",
        "])\n",
        "\n",
        "# Normalize all vertices to fit in unit sphere (optional)\n",
        "vertices = vertices / np.linalg.norm(vertices, axis=1).max()\n",
        "\n",
        "# The faces are complex, involving 12 pentagons and 20 hexagons.\n",
        "# Due to their complexity, we will load or generate them programmatically\n",
        "# but for now, a placeholder structure:\n",
        "faces = []  # Add pentagon and hexagon faces here using the vertex indices.\n",
        "\n",
        "mesh = {'vertices': vertices, 'faces': np.array(faces)}\n",
        "\n",
        "# Print mesh info\n",
        "print(f\"Vertices: {len(mesh['vertices'])}\")\n",
        "print(f\"Faces: {len(mesh['faces'])}\")\n"
      ]
    },
    {
      "cell_type": "code",
      "execution_count": null,
      "metadata": {
        "id": "CnvVOZmzJgiF"
      },
      "outputs": [],
      "source": [
        "\"\"\"Mesh of a pyramid attached to the top of a box.\"\"\"\n",
        "\n",
        "import numpy as np\n",
        "\n",
        "# Define vertices\n",
        "vertices = np.array([\n",
        "    # Box vertices (bottom at z = 0, top at z = 1)\n",
        "    [-0.5, -0.5, 0.0],  # 0\n",
        "    [ 0.5, -0.5, 0.0],  # 1\n",
        "    [ 0.5,  0.5, 0.0],  # 2\n",
        "    [-0.5,  0.5, 0.0],  # 3\n",
        "    [-0.5, -0.5, 1.0],  # 4\n",
        "    [ 0.5, -0.5, 1.0],  # 5\n",
        "    [ 0.5,  0.5, 1.0],  # 6\n",
        "    [-0.5,  0.5, 1.0],  # 7\n",
        "\n",
        "    # Pyramid apex\n",
        "    [ 0.0,  0.0, 2.0],  # 8\n",
        "])\n",
        "\n",
        "# Define faces (triangles)\n",
        "faces = np.array([\n",
        "    # Box bottom face\n",
        "    [0, 1, 2], [0, 2, 3],\n",
        "\n",
        "    # Box top face\n",
        "    [4, 6, 5], [4, 7, 6],\n",
        "\n",
        "    # Box side faces\n",
        "    [0, 4, 5], [0, 5, 1],\n",
        "    [1, 5, 6], [1, 6, 2],\n",
        "    [2, 6, 7], [2, 7, 3],\n",
        "    [3, 7, 4], [3, 4, 0],\n",
        "\n",
        "    # Pyramid side faces\n",
        "    [4, 5, 8],\n",
        "    [5, 6, 8],\n",
        "    [6, 7, 8],\n",
        "    [7, 4, 8],\n",
        "])\n",
        "\n",
        "# Final mesh dictionary\n",
        "mesh = {\n",
        "    'vertices': vertices,\n",
        "    'faces': faces\n",
        "}\n"
      ]
    },
    {
      "cell_type": "code",
      "execution_count": null,
      "metadata": {
        "id": "YKBeISdIKMyg"
      },
      "outputs": [],
      "source": [
        "\"\"\"Mesh of an upside-down pyramid whose apex sits exactly at the top of a box (z = 1.0).\"\"\"\n",
        "\n",
        "import numpy as np\n",
        "\n",
        "# Define vertices\n",
        "vertices = np.array([\n",
        "    # Box vertices (bottom at z = 0, top at z = 1)\n",
        "    [-0.5, -0.5, 0.0],  # 0\n",
        "    [ 0.5, -0.5, 0.0],  # 1\n",
        "    [ 0.5,  0.5, 0.0],  # 2\n",
        "    [-0.5,  0.5, 0.0],  # 3\n",
        "    [-0.5, -0.5, 1.0],  # 4\n",
        "    [ 0.5, -0.5, 1.0],  # 5\n",
        "    [ 0.5,  0.5, 1.0],  # 6\n",
        "    [-0.5,  0.5, 1.0],  # 7\n",
        "\n",
        "    # Inverted pyramid base (above z = 1), apex is at z = 1.0\n",
        "    [-0.5, -0.5, 2.0],  # 8\n",
        "    [ 0.5, -0.5, 2.0],  # 9\n",
        "    [ 0.5,  0.5, 2.0],  # 10\n",
        "    [-0.5,  0.5, 2.0],  # 11\n",
        "    [ 0.0,  0.0, 1.0],  # 12 <- Apex at top of box\n",
        "])\n",
        "\n",
        "# Define faces\n",
        "faces = np.array([\n",
        "    # Box bottom face\n",
        "    [0, 1, 2], [0, 2, 3],\n",
        "\n",
        "    # Box top face\n",
        "    [4, 6, 5], [4, 7, 6],\n",
        "\n",
        "    # Box side faces\n",
        "    [0, 4, 5], [0, 5, 1],\n",
        "    [1, 5, 6], [1, 6, 2],\n",
        "    [2, 6, 7], [2, 7, 3],\n",
        "    [3, 7, 4], [3, 4, 0],\n",
        "\n",
        "    # Inverted pyramid sides (pointing downward with apex at z=1)\n",
        "    [8, 9, 12],\n",
        "    [9, 10, 12],\n",
        "    [10, 11, 12],\n",
        "    [11, 8, 12],\n",
        "])\n",
        "\n",
        "# Mesh dictionary\n",
        "mesh = {\n",
        "    'vertices': vertices,\n",
        "    'faces': faces\n",
        "}\n"
      ]
    },
    {
      "cell_type": "code",
      "execution_count": null,
      "metadata": {},
      "outputs": [],
      "source": [
        "\"\"\"Mesh of an upside-down pyramid whose apex sits exactly at the top of a box (z = 1.0) + a Truncated Icosahedron (e.g., soccer ball or Buckminsterfullerene)\"\"\"\n",
        "\n",
        "\n",
        "import numpy as np\n",
        "import trimesh\n",
        "from trimesh.creation import icosahedron\n",
        "\n",
        "# --- Box from (0, 0, 0) to (1, 1, 1) ---\n",
        "box_vertices = np.array([\n",
        "    [0, 0, 0],  # 0\n",
        "    [1, 0, 0],  # 1\n",
        "    [1, 1, 0],  # 2\n",
        "    [0, 1, 0],  # 3\n",
        "    [0, 0, 1],  # 4\n",
        "    [1, 0, 1],  # 5\n",
        "    [1, 1, 1],  # 6\n",
        "    [0, 1, 1],  # 7\n",
        "])\n",
        "\n",
        "box_faces = np.array([\n",
        "    [0, 1, 2], [0, 2, 3],      # Bottom\n",
        "    [4, 5, 6], [4, 6, 7],      # Top\n",
        "    [0, 1, 5], [0, 5, 4],      # Front\n",
        "    [1, 2, 6], [1, 6, 5],      # Right\n",
        "    [2, 3, 7], [2, 7, 6],      # Back\n",
        "    [3, 0, 4], [3, 4, 7],      # Left\n",
        "])\n",
        "\n",
        "# --- Pyramid above box, apex at top center of box ---\n",
        "pyramid_vertices = np.array([\n",
        "    [0.5, 0.5, 1.0],   # 8 - apex at top center of box\n",
        "    [0,   0,   2.0],   # 9\n",
        "    [1,   0,   2.0],   # 10\n",
        "    [1,   1,   2.0],   # 11\n",
        "    [0,   1,   2.0],   # 12\n",
        "])\n",
        "\n",
        "pyramid_faces = np.array([\n",
        "    [9, 10, 8],\n",
        "    [10, 11, 8],\n",
        "    [11, 12, 8],\n",
        "    [12, 9, 8],\n",
        "    [9, 10, 11],\n",
        "    [11, 12, 9],\n",
        "])\n",
        "\n",
        "# --- Icosahedron under the box, scaled and translated ---\n",
        "ico = icosahedron()\n",
        "ico.apply_scale(0.6)  # Match approx width of box\n",
        "ico.apply_translation([0.5, 0.5, -0.6])  # Center below box\n",
        "\n",
        "ico_vertices = np.array(ico.vertices).astype(np.float32)\n",
        "ico_faces = np.array(ico.faces).astype(np.float32)\n",
        "\n",
        "# Reindex icosahedron faces\n",
        "ico_offset = len(box_vertices) + len(pyramid_vertices)\n",
        "ico_faces += ico_offset\n",
        "\n",
        "# --- Combine everything ---\n",
        "vertices = np.vstack([box_vertices, pyramid_vertices, ico_vertices]).astype(np.float32)\n",
        "faces = np.vstack([box_faces, pyramid_faces, ico_faces]).astype(np.float32)\n",
        "\n",
        "\n",
        "# Create mesh and visualize\n",
        "mesh_to_display = trimesh.Trimesh(vertices=vertices, faces=faces)\n",
        "\n",
        "\n",
        "mesh_to_display.show()\n",
        "\n",
        "\n"
      ]
    },
    {
      "cell_type": "code",
      "execution_count": null,
      "metadata": {},
      "outputs": [],
      "source": [
        "# Mesh dictionary\n",
        "mesh = {\n",
        "    'vertices': vertices,\n",
        "    'faces': faces\n",
        "}\n"
      ]
    },
    {
      "cell_type": "code",
      "execution_count": null,
      "metadata": {
        "id": "BdCrBSHRGUaH"
      },
      "outputs": [],
      "source": [
        "# Loads the Tensorflow Graphics simplified logo.\n",
        "vertices = tfg_simplified_logo.mesh['vertices'].astype(np.float32)\n",
        "faces = tfg_simplified_logo.mesh['faces']\n",
        "num_vertices = vertices.shape[0]"
      ]
    },
    {
      "cell_type": "code",
      "execution_count": null,
      "metadata": {
        "id": "xxx3ftFjE8_-"
      },
      "outputs": [],
      "source": [
        "# Box cad model\n",
        "vertices = mesh['vertices'].astype(np.float32)\n",
        "faces = mesh['faces']\n",
        "num_vertices = vertices.shape[0]\n"
      ]
    },
    {
      "cell_type": "markdown",
      "metadata": {
        "id": "pD2ldsUvaP5V"
      },
      "source": [
        "## 1.  Machine Learning\n"
      ]
    },
    {
      "cell_type": "markdown",
      "metadata": {
        "id": "UmFx3BqjNWrN"
      },
      "source": [
        "### Model definition\n",
        "Given the 3D position of all the vertices of a known mesh, we would like a network that is capable of predicting the rotation parametrized by a quaternion (4 dimensional vector), and translation (3 dimensional vector) of this mesh with respect to a reference pose. Let's now create a very simple 3-layer fully connected network, and a loss for the task. Note that this model is very simple and definitely not optimal, which is out of scope for this notebook."
      ]
    },
    {
      "cell_type": "code",
      "execution_count": null,
      "metadata": {
        "id": "5_EP7GzQb6sn"
      },
      "outputs": [],
      "source": [
        "# Constructs the model.\n",
        "model = keras.Sequential()\n",
        "model.add(layers.Flatten(input_shape=(num_vertices, 3)))\n",
        "model.add(layers.Dense(64, activation=tf.nn.tanh))\n",
        "model.add(layers.Dense(64, activation=tf.nn.relu))\n",
        "model.add(layers.Dense(7))\n",
        "\n",
        "\n",
        "def pose_estimation_loss(y_true, y_pred):\n",
        "  \"\"\"Pose estimation loss used for training.\n",
        "\n",
        "  This loss measures the average of squared distance between some vertices\n",
        "  of the mesh in 'rest pose' and the transformed mesh to which the predicted\n",
        "  inverse pose is applied. Comparing this loss with a regular L2 loss on the\n",
        "  quaternion and translation values is left as exercise to the interested\n",
        "  reader.\n",
        "\n",
        "  Args:\n",
        "    y_true: The ground-truth value.\n",
        "    y_pred: The prediction we want to evaluate the loss for.\n",
        "\n",
        "  Returns:\n",
        "    A scalar value containing the loss described in the description above.\n",
        "  \"\"\"\n",
        "  # y_true.shape : (batch, 7)\n",
        "  y_true_q, y_true_t = tf.split(y_true, (4, 3), axis=-1)\n",
        "  # y_pred.shape : (batch, 7)\n",
        "  y_pred_q, y_pred_t = tf.split(y_pred, (4, 3), axis=-1)\n",
        "\n",
        "  # vertices.shape: (num_vertices, 3)\n",
        "  # corners.shape:(num_vertices, 1, 3)\n",
        "  corners = tf.expand_dims(vertices, axis=1)\n",
        "\n",
        "  # transformed_corners.shape: (num_vertices, batch, 3)\n",
        "  # q and t shapes get pre-pre-padded with 1's following standard broadcast rules.\n",
        "  transformed_corners = quaternion.rotate(corners, y_pred_q) + y_pred_t\n",
        "\n",
        "  # recovered_corners.shape: (num_vertices, batch, 3)\n",
        "  recovered_corners = quaternion.rotate(transformed_corners - y_true_t,\n",
        "                                        quaternion.inverse(y_true_q))\n",
        "\n",
        "  # vertex_error.shape: (num_vertices, batch)\n",
        "  vertex_error = tf.reduce_sum((recovered_corners - corners)**2, axis=-1)\n",
        "\n",
        "  return tf.reduce_mean(vertex_error)\n",
        "\n",
        "\n",
        "optimizer = keras.optimizers.Adam()\n",
        "model.compile(loss=pose_estimation_loss, optimizer=optimizer)\n",
        "model.summary()"
      ]
    },
    {
      "cell_type": "markdown",
      "metadata": {
        "id": "VPJeqKp3OaE0"
      },
      "source": [
        "### Data generation\n",
        "Now that we have a model defined, we need data to train it. For each sample in the training set, a random 3D rotation and 3D translation are sampled and applied to the vertices of our object. Each training sample consists of all the transformed vertices and the inverse rotation and translation that would allow to revert the rotation and translation applied to the sample."
      ]
    },
    {
      "cell_type": "code",
      "execution_count": null,
      "metadata": {
        "id": "jtaNzJKBGi8s"
      },
      "outputs": [],
      "source": [
        "def generate_training_data(num_samples):\n",
        "  # random_angles.shape: (num_samples, 3)\n",
        "  random_angles = np.random.uniform(-np.pi, np.pi,\n",
        "                                    (num_samples, 3)).astype(np.float32)\n",
        "\n",
        "  # random_quaternion.shape: (num_samples, 4)\n",
        "  random_quaternion = quaternion.from_euler(random_angles)\n",
        "\n",
        "  # random_translation.shape: (num_samples, 3)\n",
        "  random_translation = np.random.uniform(-2.0, 2.0,\n",
        "                                         (num_samples, 3)).astype(np.float32)\n",
        "\n",
        "  # data.shape : (num_samples, num_vertices, 3)\n",
        "  data = quaternion.rotate(vertices[tf.newaxis, :, :],\n",
        "                           random_quaternion[:, tf.newaxis, :]\n",
        "                          ) + random_translation[:, tf.newaxis, :]\n",
        "\n",
        "  # target.shape : (num_samples, 4+3)\n",
        "  target = tf.concat((random_quaternion, random_translation), axis=-1)\n",
        "\n",
        "  return np.array(data), np.array(target)"
      ]
    },
    {
      "cell_type": "code",
      "execution_count": null,
      "metadata": {
        "id": "E3MIRZrQfPJa"
      },
      "outputs": [],
      "source": [
        "num_samples = 10000\n",
        "\n",
        "data, target = generate_training_data(num_samples)\n",
        "\n",
        "print(data.shape)   # (num_samples, num_vertices, 3): the vertices\n",
        "print(target.shape)  # (num_samples, 4+3): the quaternion and translation"
      ]
    },
    {
      "cell_type": "markdown",
      "metadata": {
        "id": "R5yebHu3OOgJ"
      },
      "source": [
        "### Training\n",
        "At this point, everything is in place to start training the neural network!"
      ]
    },
    {
      "cell_type": "code",
      "execution_count": null,
      "metadata": {
        "id": "vquVVhxGC70_"
      },
      "outputs": [],
      "source": [
        "# Callback allowing to display the progression of the training task.\n",
        "class ProgressTracker(keras.callbacks.Callback):\n",
        "\n",
        "  def __init__(self, num_epochs, step=5):\n",
        "    self.num_epochs = num_epochs\n",
        "    self.current_epoch = 0.\n",
        "    self.step = step\n",
        "    self.last_percentage_report = 0\n",
        "\n",
        "  def on_epoch_end(self, batch, logs={}):\n",
        "    self.current_epoch += 1.\n",
        "    training_percentage = int(self.current_epoch * 100.0 / self.num_epochs)\n",
        "    if training_percentage - self.last_percentage_report >= self.step:\n",
        "      print('Training ' + str(\n",
        "          training_percentage) + '% complete. Training loss: ' + str(\n",
        "              logs.get('loss')) + ' | Validation loss: ' + str(\n",
        "                  logs.get('val_loss')))\n",
        "      self.last_percentage_report = training_percentage"
      ]
    },
    {
      "cell_type": "code",
      "execution_count": null,
      "metadata": {
        "id": "TtntLH1NDAZV"
      },
      "outputs": [],
      "source": [
        "reduce_lr_callback = keras.callbacks.ReduceLROnPlateau(\n",
        "    monitor='val_loss',\n",
        "    factor=0.5,\n",
        "    patience=10,\n",
        "    verbose=0,\n",
        "    mode='auto',\n",
        "    min_delta=0.0001,\n",
        "    cooldown=0,\n",
        "    min_lr=0)"
      ]
    },
    {
      "cell_type": "code",
      "execution_count": null,
      "metadata": {
        "id": "l0r2AuWsWpb-"
      },
      "outputs": [],
      "source": [
        "# google internal 1\n",
        "# Everything is now in place to train.\n",
        "EPOCHS = 100\n",
        "pt = ProgressTracker(EPOCHS)\n",
        "history = model.fit(\n",
        "    data,\n",
        "    target,\n",
        "    epochs=EPOCHS,\n",
        "    validation_split=0.2,\n",
        "    verbose=0,\n",
        "    batch_size=32,\n",
        "    callbacks=[reduce_lr_callback, pt])\n",
        "\n",
        "plt.plot(history.history['loss'])\n",
        "plt.plot(history.history['val_loss'])\n",
        "plt.ylim([0, 1])\n",
        "plt.legend(['loss', 'val loss'], loc='upper left')\n",
        "plt.xlabel('Train epoch')\n",
        "_ = plt.ylabel('Error [mean square distance]')"
      ]
    },
    {
      "cell_type": "markdown",
      "metadata": {
        "id": "cqYThAKGjhRU"
      },
      "source": [
        "### Testing\n",
        "The network is now trained and ready to use!\n",
        "The displayed results consist of two images. The first image contains the object in 'rest pose' (pastel lemon color) and the rotated and translated object (pastel honeydew color). This effectively allows to observe how **different** the two configurations are. The second image also shows the object in rest pose, but this time the transformation predicted by our trained neural network is applied to the rotated and translated version. Hopefully, the two objects are now in a very **similar** pose.\n",
        "\n",
        "**Note**: press play multiple times to sample different test cases. You will notice that sometimes the scale of the object is off. This comes from the fact that quaternions can encode scale. Using a quaternion of unit norm would result in not changing the scale of the result. We let the interested reader experiment with adding this constraint either in the network architecture, or in the loss function."
      ]
    },
    {
      "cell_type": "markdown",
      "metadata": {
        "id": "bMUOcMsf5sia"
      },
      "source": [
        "Start with a helper function to apply a quaternion and a translation:"
      ]
    },
    {
      "cell_type": "code",
      "execution_count": null,
      "metadata": {
        "id": "3CuzLFUR2TQc"
      },
      "outputs": [],
      "source": [
        "def transform_points(target_points, quaternion_variable, translation_variable):\n",
        "  return quaternion.rotate(target_points,\n",
        "                           quaternion_variable) + translation_variable"
      ]
    },
    {
      "cell_type": "markdown",
      "metadata": {
        "id": "EJgJX6DO5zQO"
      },
      "source": [
        "Define a `threejs` viewer for the transformed shape:"
      ]
    },
    {
      "cell_type": "code",
      "execution_count": null,
      "metadata": {
        "id": "ijibJe1p2Kgk"
      },
      "outputs": [],
      "source": [
        "class Viewer(object):\n",
        "\n",
        "  def __init__(self, my_vertices):\n",
        "    my_vertices = np.asarray(my_vertices)\n",
        "    context = threejs_visualization.build_context()\n",
        "    light1 = context.THREE.PointLight.new_object(0x808080)\n",
        "    light1.position.set(10., 10., 10.)\n",
        "    light2 = context.THREE.AmbientLight.new_object(0x808080)\n",
        "    lights = (light1, light2)\n",
        "\n",
        "    material = context.THREE.MeshLambertMaterial.new_object({\n",
        "        'color': 0xfffacd,\n",
        "    })\n",
        "\n",
        "    material_deformed = context.THREE.MeshLambertMaterial.new_object({\n",
        "        'color': 0xf0fff0,\n",
        "    })\n",
        "\n",
        "    camera = threejs_visualization.build_perspective_camera(\n",
        "        field_of_view=30, position=(10.0, 10.0, 10.0))\n",
        "\n",
        "    mesh = {'vertices': vertices, 'faces': faces, 'material': material}\n",
        "    transformed_mesh = {\n",
        "        'vertices': my_vertices,\n",
        "        'faces': faces,\n",
        "        'material': material_deformed\n",
        "    }\n",
        "    geometries = threejs_visualization.triangular_mesh_renderer(\n",
        "        [mesh, transformed_mesh],\n",
        "        lights=lights,\n",
        "        camera=camera,\n",
        "        width=400,\n",
        "        height=400)\n",
        "\n",
        "    self.geometries = geometries\n",
        "\n",
        "  def update(self, transformed_points):\n",
        "    self.geometries[1].getAttribute('position').copyArray(\n",
        "        transformed_points.numpy().ravel().tolist())\n",
        "    self.geometries[1].getAttribute('position').needsUpdate = True"
      ]
    },
    {
      "cell_type": "markdown",
      "metadata": {
        "id": "vt8dw1VE58VH"
      },
      "source": [
        "Define a random rotation and translation:"
      ]
    },
    {
      "cell_type": "code",
      "execution_count": null,
      "metadata": {
        "id": "dQBZ22DSzaMu"
      },
      "outputs": [],
      "source": [
        "def get_random_transform():\n",
        "  # Forms a random translation\n",
        "  with tf.name_scope('translation_variable'):\n",
        "    random_translation = tf.Variable(\n",
        "        np.random.uniform(-2.0, 2.0, (3,)), dtype=tf.float32)\n",
        "\n",
        "  # Forms a random quaternion\n",
        "  hi = np.pi\n",
        "  lo = -hi\n",
        "  random_angles = np.random.uniform(lo, hi, (3,)).astype(np.float32)\n",
        "  with tf.name_scope('rotation_variable'):\n",
        "    random_quaternion = tf.Variable(quaternion.from_euler(random_angles))\n",
        "\n",
        "  return random_quaternion, random_translation\n"
      ]
    },
    {
      "cell_type": "markdown",
      "metadata": {
        "id": "_9FfPxsj6S8J"
      },
      "source": [
        "Run the model to predict the transformation parameters, and visualize the result:"
      ]
    },
    {
      "cell_type": "code",
      "execution_count": null,
      "metadata": {
        "id": "N70Swvie6IWd"
      },
      "outputs": [],
      "source": [
        "random_quaternion, random_translation = get_random_transform()\n",
        "\n",
        "initial_orientation = transform_points(vertices, random_quaternion,\n",
        "                                       random_translation).numpy()\n",
        "viewer = Viewer(initial_orientation)\n",
        "\n",
        "predicted_transformation = model.predict(initial_orientation[tf.newaxis, :, :])\n",
        "\n",
        "predicted_inverse_q = quaternion.inverse(predicted_transformation[0, 0:4])\n",
        "predicted_inverse_t = -predicted_transformation[0, 4:]\n",
        "\n",
        "predicted_aligned = quaternion.rotate(initial_orientation + predicted_inverse_t,\n",
        "                                      predicted_inverse_q)\n",
        "\n",
        "viewer = Viewer(predicted_aligned)"
      ]
    },
    {
      "cell_type": "code",
      "execution_count": null,
      "metadata": {
        "id": "MbPjaJZ7U2an"
      },
      "outputs": [],
      "source": [
        "print(initial_orientation)"
      ]
    },
    {
      "cell_type": "markdown",
      "metadata": {
        "id": "o6Aut-yJJApf"
      },
      "source": [
        "## 2. Mathematical optimization\n",
        "Here the problem is tackled using mathematical optimization, which is another traditional way to approach the problem of object pose estimation. Given correspondences between the object in 'rest pose' (pastel lemon color) and its rotated and translated counter part (pastel honeydew color), the problem can be formulated as a minimization problem. The loss function can for instance be defined as the sum of Euclidean distances between the corresponding points using the current estimate of the rotation and translation of the transformed object. One can then compute the derivative of the rotation and translation parameters with respect to this loss function, and follow the gradient direction until convergence. The following cell closely follows that procedure, and uses gradient descent to align the two objects. It is worth noting that although the results are good, there are more efficient ways to solve this specific problem. The interested reader is referred to the Kabsch algorithm for further details.\n",
        "\n",
        "**Note**: press play multiple times to sample different test cases."
      ]
    },
    {
      "cell_type": "markdown",
      "metadata": {
        "id": "6vWEO0846b8h"
      },
      "source": [
        "Define the `loss` and `gradient` functions:"
      ]
    },
    {
      "cell_type": "code",
      "execution_count": null,
      "metadata": {
        "id": "b8_TYq-31l3z"
      },
      "outputs": [],
      "source": [
        "def loss(target_points, quaternion_variable, translation_variable):\n",
        "  transformed_points = transform_points(target_points, quaternion_variable,\n",
        "                                        translation_variable)\n",
        "  error = (vertices - transformed_points) / num_vertices\n",
        "  return vector.dot(error, error)\n",
        "\n",
        "\n",
        "def gradient_loss(target_points, quaternion, translation):\n",
        "  with tf.GradientTape() as tape:\n",
        "    loss_value = loss(target_points, quaternion, translation)\n",
        "  return tape.gradient(loss_value, [quaternion, translation])"
      ]
    },
    {
      "cell_type": "markdown",
      "metadata": {
        "id": "9y8DLxc26h0g"
      },
      "source": [
        "Create the optimizer."
      ]
    },
    {
      "cell_type": "code",
      "execution_count": null,
      "metadata": {
        "id": "1YzO2Dpy4oDa"
      },
      "outputs": [],
      "source": [
        "learning_rate = 0.05\n",
        "with tf.name_scope('optimization'):\n",
        "  optimizer = tf.compat.v1.train.AdamOptimizer(learning_rate)"
      ]
    },
    {
      "cell_type": "markdown",
      "metadata": {
        "id": "uPdMbQvO6prf"
      },
      "source": [
        "Initialize the random transformation, run the optimization and animate the result."
      ]
    },
    {
      "cell_type": "code",
      "execution_count": null,
      "metadata": {
        "id": "vw9RMRPVz0YL"
      },
      "outputs": [],
      "source": [
        "random_quaternion, random_translation = get_random_transform()\n",
        "\n",
        "transformed_points = transform_points(vertices, random_quaternion,\n",
        "                                      random_translation)\n",
        "\n",
        "viewer = Viewer(transformed_points)\n",
        "\n",
        "nb_iterations = 100\n",
        "for it in range(nb_iterations):\n",
        "  gradients_loss = gradient_loss(vertices, random_quaternion,\n",
        "                                 random_translation)\n",
        "  optimizer.apply_gradients(\n",
        "      zip(gradients_loss, (random_quaternion, random_translation)))\n",
        "  transformed_points = transform_points(vertices, random_quaternion,\n",
        "                                        random_translation)\n",
        "\n",
        "  viewer.update(transformed_points)\n",
        "  time.sleep(0.1)\n",
        "\n",
        "print(random_quaternion)"
      ]
    }
  ],
  "metadata": {
    "accelerator": "GPU",
    "colab": {
      "gpuType": "L4",
      "machine_shape": "hm",
      "name": "6dof alignment.ipynb",
      "private_outputs": true,
      "provenance": []
    },
    "kernelspec": {
      "display_name": "Python 3",
      "name": "python3"
    }
  },
  "nbformat": 4,
  "nbformat_minor": 0
}
